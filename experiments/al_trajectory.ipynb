{
 "cells": [
  {
   "cell_type": "code",
   "execution_count": 1,
   "metadata": {},
   "outputs": [],
   "source": [
    "import os, sys\n",
    "import numpy as np\n",
    "import torch\n",
    "import json\n",
    "from scipy.special import softmax\n",
    "\n",
    "sys.path.append(\"..\")\n",
    "from singleVis.SingleVisualizationModel import VisModel\n",
    "from singleVis.data import ActiveLearningDataProvider\n",
    "from singleVis.projector import TimeVisProjector,tfDVIProjector\n",
    "from singleVis.trajectory_manager import Recommender"
   ]
  },
  {
   "cell_type": "code",
   "execution_count": 2,
   "metadata": {},
   "outputs": [],
   "source": [
    "# read results\n",
    "import pandas as pd\n",
    "eval_path = \"/home/xianglin/projects/DVI_data/active_learning/random/resnet18/feedback.xlsx\"\n",
    "col = np.array([\"task\", \"dataset\", \"method\", \"rate\", \"tolerance\", \"iter\", \"eval\"])\n",
    "df = pd.read_excel(eval_path, index_col=0, dtype={\"task\":str, \"dataset\":str, \"method\":str, \"rate\":int, \"tolerance\":float, \"iter\":int, \"eval\":float})"
   ]
  },
  {
   "cell_type": "code",
   "execution_count": 3,
   "metadata": {},
   "outputs": [
    {
     "data": {
      "text/html": [
       "<div>\n",
       "<style scoped>\n",
       "    .dataframe tbody tr th:only-of-type {\n",
       "        vertical-align: middle;\n",
       "    }\n",
       "\n",
       "    .dataframe tbody tr th {\n",
       "        vertical-align: top;\n",
       "    }\n",
       "\n",
       "    .dataframe thead th {\n",
       "        text-align: right;\n",
       "    }\n",
       "</style>\n",
       "<table border=\"1\" class=\"dataframe\">\n",
       "  <thead>\n",
       "    <tr style=\"text-align: right;\">\n",
       "      <th></th>\n",
       "      <th>task</th>\n",
       "      <th>dataset</th>\n",
       "      <th>method</th>\n",
       "      <th>rate</th>\n",
       "      <th>tolerance</th>\n",
       "      <th>iter</th>\n",
       "      <th>eval</th>\n",
       "    </tr>\n",
       "  </thead>\n",
       "  <tbody>\n",
       "    <tr>\n",
       "      <th>122793</th>\n",
       "      <td>RA</td>\n",
       "      <td>cifar10</td>\n",
       "      <td>TimeVis</td>\n",
       "      <td>30</td>\n",
       "      <td>0.0</td>\n",
       "      <td>1</td>\n",
       "      <td>0.999971</td>\n",
       "    </tr>\n",
       "    <tr>\n",
       "      <th>122889</th>\n",
       "      <td>RA</td>\n",
       "      <td>cifar10</td>\n",
       "      <td>TimeVis</td>\n",
       "      <td>30</td>\n",
       "      <td>0.0</td>\n",
       "      <td>1</td>\n",
       "      <td>0.999971</td>\n",
       "    </tr>\n",
       "    <tr>\n",
       "      <th>122943</th>\n",
       "      <td>RA</td>\n",
       "      <td>cifar10</td>\n",
       "      <td>TimeVis</td>\n",
       "      <td>30</td>\n",
       "      <td>0.0</td>\n",
       "      <td>1</td>\n",
       "      <td>0.999971</td>\n",
       "    </tr>\n",
       "    <tr>\n",
       "      <th>122997</th>\n",
       "      <td>RA</td>\n",
       "      <td>cifar10</td>\n",
       "      <td>TimeVis</td>\n",
       "      <td>30</td>\n",
       "      <td>0.0</td>\n",
       "      <td>1</td>\n",
       "      <td>0.999971</td>\n",
       "    </tr>\n",
       "    <tr>\n",
       "      <th>123051</th>\n",
       "      <td>RA</td>\n",
       "      <td>cifar10</td>\n",
       "      <td>TimeVis</td>\n",
       "      <td>30</td>\n",
       "      <td>0.0</td>\n",
       "      <td>1</td>\n",
       "      <td>0.999971</td>\n",
       "    </tr>\n",
       "    <tr>\n",
       "      <th>...</th>\n",
       "      <td>...</td>\n",
       "      <td>...</td>\n",
       "      <td>...</td>\n",
       "      <td>...</td>\n",
       "      <td>...</td>\n",
       "      <td>...</td>\n",
       "      <td>...</td>\n",
       "    </tr>\n",
       "    <tr>\n",
       "      <th>149565</th>\n",
       "      <td>RA</td>\n",
       "      <td>cifar10</td>\n",
       "      <td>TimeVis</td>\n",
       "      <td>30</td>\n",
       "      <td>0.0</td>\n",
       "      <td>1</td>\n",
       "      <td>0.999971</td>\n",
       "    </tr>\n",
       "    <tr>\n",
       "      <th>149619</th>\n",
       "      <td>RA</td>\n",
       "      <td>cifar10</td>\n",
       "      <td>TimeVis</td>\n",
       "      <td>30</td>\n",
       "      <td>0.0</td>\n",
       "      <td>1</td>\n",
       "      <td>0.999971</td>\n",
       "    </tr>\n",
       "    <tr>\n",
       "      <th>149673</th>\n",
       "      <td>RA</td>\n",
       "      <td>cifar10</td>\n",
       "      <td>TimeVis</td>\n",
       "      <td>30</td>\n",
       "      <td>0.0</td>\n",
       "      <td>1</td>\n",
       "      <td>0.999971</td>\n",
       "    </tr>\n",
       "    <tr>\n",
       "      <th>149727</th>\n",
       "      <td>RA</td>\n",
       "      <td>cifar10</td>\n",
       "      <td>TimeVis</td>\n",
       "      <td>30</td>\n",
       "      <td>0.0</td>\n",
       "      <td>1</td>\n",
       "      <td>0.999971</td>\n",
       "    </tr>\n",
       "    <tr>\n",
       "      <th>149781</th>\n",
       "      <td>RA</td>\n",
       "      <td>cifar10</td>\n",
       "      <td>TimeVis</td>\n",
       "      <td>30</td>\n",
       "      <td>0.0</td>\n",
       "      <td>1</td>\n",
       "      <td>0.999971</td>\n",
       "    </tr>\n",
       "  </tbody>\n",
       "</table>\n",
       "<p>500 rows × 7 columns</p>\n",
       "</div>"
      ],
      "text/plain": [
       "       task  dataset   method  rate  tolerance  iter      eval\n",
       "122793   RA  cifar10  TimeVis    30        0.0     1  0.999971\n",
       "122889   RA  cifar10  TimeVis    30        0.0     1  0.999971\n",
       "122943   RA  cifar10  TimeVis    30        0.0     1  0.999971\n",
       "122997   RA  cifar10  TimeVis    30        0.0     1  0.999971\n",
       "123051   RA  cifar10  TimeVis    30        0.0     1  0.999971\n",
       "...     ...      ...      ...   ...        ...   ...       ...\n",
       "149565   RA  cifar10  TimeVis    30        0.0     1  0.999971\n",
       "149619   RA  cifar10  TimeVis    30        0.0     1  0.999971\n",
       "149673   RA  cifar10  TimeVis    30        0.0     1  0.999971\n",
       "149727   RA  cifar10  TimeVis    30        0.0     1  0.999971\n",
       "149781   RA  cifar10  TimeVis    30        0.0     1  0.999971\n",
       "\n",
       "[500 rows x 7 columns]"
      ]
     },
     "execution_count": 3,
     "metadata": {},
     "output_type": "execute_result"
    }
   ],
   "source": [
    "df[(df.task == \"RA\")&(df.dataset==\"cifar10\")&(df.method==\"TimeVis\")&(df.rate==30)&(df.iter==1)]"
   ]
  },
  {
   "cell_type": "code",
   "execution_count": 2,
   "metadata": {},
   "outputs": [],
   "source": [
    "DATASET = \"MNIST\"\n",
    "RATE = \"10\"\n",
    "VIS_METHOD = \"TimeVis\""
   ]
  },
  {
   "cell_type": "code",
   "execution_count": 3,
   "metadata": {},
   "outputs": [],
   "source": [
    "CONTENT_PATH = \"/home/xianglin/projects/DVI_data/active_learning/random/resnet18/{}/{}\".format(DATASET, RATE)\n",
    "sys.path.append(CONTENT_PATH)\n",
    "with open(os.path.join(CONTENT_PATH, \"config.json\"), \"r\") as f:\n",
    "    config = json.load(f)\n",
    "config = config[VIS_METHOD]"
   ]
  },
  {
   "cell_type": "code",
   "execution_count": 4,
   "metadata": {},
   "outputs": [
    {
     "name": "stdout",
     "output_type": "stream",
     "text": [
      "Finish initialization...\n"
     ]
    }
   ],
   "source": [
    "CLASSES = config[\"CLASSES\"]\n",
    "GPU_ID = config[\"GPU\"]\n",
    "EPOCH_START = config[\"EPOCH_START\"]\n",
    "EPOCH_END = config[\"EPOCH_END\"]\n",
    "EPOCH_PERIOD = config[\"EPOCH_PERIOD\"]\n",
    "# embedding trajectories\n",
    "TOTOAL_EPOCH = (EPOCH_END-EPOCH_START)//EPOCH_PERIOD + 1\n",
    "\n",
    "# Training parameter (subject model)\n",
    "TRAINING_PARAMETER = config[\"TRAINING\"]\n",
    "NET = TRAINING_PARAMETER[\"NET\"]\n",
    "LEN = TRAINING_PARAMETER[\"train_num\"]\n",
    "# Training parameter (visualization model)\n",
    "VISUALIZATION_PARAMETER = config[\"VISUALIZATION\"]\n",
    "ENCODER_DIMS = VISUALIZATION_PARAMETER[\"ENCODER_DIMS\"]\n",
    "DECODER_DIMS = VISUALIZATION_PARAMETER[\"DECODER_DIMS\"]\n",
    "VIS_MODEL_NAME = VISUALIZATION_PARAMETER[\"VIS_MODEL_NAME\"]\n",
    "\n",
    "# define hyperparameters\n",
    "DEVICE = torch.device(\"cuda:{}\".format(GPU_ID) if torch.cuda.is_available() else \"cpu\")\n",
    "\n",
    "import Model.model as subject_model\n",
    "net = eval(\"subject_model.{}()\".format(NET))\n",
    "data_provider = ActiveLearningDataProvider(CONTENT_PATH, net, EPOCH_START,device=DEVICE, classes=CLASSES, iteration_name=\"Epoch\")\n",
    "\n",
    "if VIS_METHOD == \"DVI\":\n",
    "    # Define Projector\n",
    "    flag = \"_temporal_id_withoutB\"\n",
    "    projector = tfDVIProjector(CONTENT_PATH, flag=flag)\n",
    "elif VIS_METHOD == \"TimeVis\":\n",
    "    model = VisModel(ENCODER_DIMS, DECODER_DIMS)\n",
    "    projector = TimeVisProjector(vis_model=model, content_path=CONTENT_PATH, vis_model_name=VIS_MODEL_NAME, device=DEVICE)\n",
    "else:\n",
    "    raise NotImplementedError"
   ]
  },
  {
   "cell_type": "code",
   "execution_count": null,
   "metadata": {},
   "outputs": [],
   "source": [
    "# uncertainty\n",
    "samples = data_provider.train_representation_all(EPOCH_END)\n",
    "pred = data_provider.get_pred(EPOCH_END, samples)\n",
    "confidence = np.amax(softmax(pred, axis=1), axis=1)\n",
    "uncertainty = 1-confidence"
   ]
  },
  {
   "cell_type": "code",
   "execution_count": null,
   "metadata": {},
   "outputs": [],
   "source": [
    "samples = np.zeros((TOTOAL_EPOCH, LEN, 512))\n",
    "for i in range(EPOCH_START, EPOCH_END, EPOCH_PERIOD):\n",
    "    e = (i-EPOCH_START)//EPOCH_PERIOD\n",
    "    samples[e] = data_provider.train_representation_all(i)"
   ]
  },
  {
   "cell_type": "code",
   "execution_count": null,
   "metadata": {},
   "outputs": [],
   "source": [
    "embeddings_2d = np.zeros((TOTOAL_EPOCH, LEN, 2))\n",
    "for i in range(EPOCH_START, EPOCH_END, EPOCH_PERIOD):\n",
    "    e = (i-EPOCH_START)//EPOCH_PERIOD\n",
    "    embeddings_2d[e] = projector.batch_project(i, samples[e])\n",
    "embeddings_2d = np.transpose(embeddings_2d, [1,0,2])"
   ]
  },
  {
   "cell_type": "code",
   "execution_count": null,
   "metadata": {},
   "outputs": [],
   "source": [
    "path = os.path.join(CONTENT_PATH, \"Model\", \"{}_trajectory_embeddings.npy\".format(VIS_METHOD))\n",
    "np.save(path,embeddings_2d)"
   ]
  },
  {
   "cell_type": "code",
   "execution_count": null,
   "metadata": {},
   "outputs": [],
   "source": [
    "path = os.path.join(CONTENT_PATH, \"Model\", \"{}_trajectory_embeddings.npy\".format(VIS_METHOD))\n",
    "embeddings_2d = np.load(path)"
   ]
  },
  {
   "cell_type": "code",
   "execution_count": null,
   "metadata": {},
   "outputs": [],
   "source": [
    "samples.shape,uncertainty.shape, embeddings_2d.shape"
   ]
  },
  {
   "cell_type": "code",
   "execution_count": 5,
   "metadata": {},
   "outputs": [],
   "source": [
    "labels = data_provider.train_labels_all(EPOCH_END)\n",
    "# remove label data\n",
    "lb_idxs = data_provider.get_labeled_idx(EPOCH_END)\n",
    "ulb_idxs = data_provider.get_unlabeled_idx(LEN, lb_idxs)"
   ]
  },
  {
   "cell_type": "code",
   "execution_count": null,
   "metadata": {},
   "outputs": [],
   "source": [
    "ulb_uncertainty = uncertainty[ulb_idxs]\n",
    "ulb_trajectory = embeddings_2d[ulb_idxs]"
   ]
  },
  {
   "cell_type": "code",
   "execution_count": null,
   "metadata": {},
   "outputs": [],
   "source": [
    "import time\n",
    "import pickle\n",
    "t_start = time.time()\n",
    "tm = Recommender(ulb_uncertainty, ulb_trajectory, cls_num=30, period=15, metric=\"a\")\n",
    "tm.clustered()\n",
    "t_end = time.time()\n",
    "with open(os.path.join(CONTENT_PATH,  '{}_sample_recommender.pkl'.format(VIS_METHOD)), 'wb') as f:\n",
    "    pickle.dump(tm, f, pickle.HIGHEST_PROTOCOL)"
   ]
  },
  {
   "cell_type": "code",
   "execution_count": 6,
   "metadata": {},
   "outputs": [],
   "source": [
    "import pickle\n",
    "with open(os.path.join(CONTENT_PATH,  '{}_sample_recommender.pkl'.format(VIS_METHOD)), 'rb') as f:\n",
    "    tm = pickle.load(f)"
   ]
  },
  {
   "cell_type": "code",
   "execution_count": 7,
   "metadata": {},
   "outputs": [],
   "source": [
    "def add_noise(rate, acc_idxs, rej_idxs):\n",
    "    if rate == 0:\n",
    "        return acc_idxs, rej_idxs\n",
    "    acc_noise = np.random.choice(len(acc_idxs), size=int(len(acc_idxs)*rate))\n",
    "    acc_noise = acc_idxs[acc_noise]\n",
    "    new_acc = np.setdiff1d(acc_idxs, acc_noise)\n",
    "\n",
    "    rej_noise = np.random.choice(len(rej_idxs), size=int(len(rej_idxs)*rate))\n",
    "    rej_noise = rej_idxs[rej_noise]\n",
    "    new_rej = np.setdiff1d(rej_idxs, rej_noise)\n",
    "\n",
    "    new_acc = np.concatenate((new_acc, rej_noise), axis=0)\n",
    "    new_rej = np.concatenate((new_rej, acc_noise), axis=0)\n",
    "    return new_acc, new_rej\n",
    "\n",
    "\n",
    "def init_sampling(tm, method, round, budget, ulb_wrong):\n",
    "    print(\"Feedback sampling initialization ({}):\".format(method))\n",
    "    rate = list()\n",
    "    for _ in range(round):\n",
    "        correct = np.array([]).astype(np.int32)\n",
    "        wrong = np.array([]).astype(np.int32)\n",
    "        \n",
    "        suggest_idxs, _ = tm.sample_batch_init(correct, wrong, budget)\n",
    "        suggest_idxs = ulb_idxs[suggest_idxs]\n",
    "        correct = np.intersect1d(suggest_idxs, ulb_wrong)\n",
    "        rate.append(len(correct)/budget)\n",
    "    print(\"Init success Rate:\\t{:.4f}\".format(sum(rate)/len(rate)))\n",
    "    return sum(rate)/len(rate)\n",
    "\n",
    "\n",
    "def feedback_sampling(tm, method, round, budget, ulb_wrong, noise_rate=0):\n",
    "    print(\"Feedback sampling ({}) with noise rate {}:\".format(method, noise_rate))\n",
    "    rate = np.zeros(round)\n",
    "    correct = np.array([]).astype(np.int32)\n",
    "    wrong = np.array([]).astype(np.int32)\n",
    "    map_ulb =ulb_idxs.tolist()\n",
    "\n",
    "    map_acc_idxs = np.array([map_ulb.index(i) for i in correct]).astype(np.int32)\n",
    "    map_rej_idxs = np.array([map_ulb.index(i) for i in wrong]).astype(np.int32)\n",
    "    suggest_idxs, _ = tm.sample_batch_init(map_acc_idxs, map_rej_idxs, budget)\n",
    "    suggest_idxs = ulb_idxs[suggest_idxs]\n",
    "    correct = np.intersect1d(suggest_idxs, ulb_wrong)\n",
    "    wrong = np.setdiff1d(suggest_idxs, correct)\n",
    "    rate[0] = len(correct)/budget\n",
    "    # inject noise\n",
    "    correct, wrong = add_noise(noise_rate, correct, wrong)\n",
    "    for r in range(1, round):\n",
    "        map_acc_idxs = np.array([map_ulb.index(i) for i in correct]).astype(np.int32)\n",
    "        map_rej_idxs = np.array([map_ulb.index(i) for i in wrong]).astype(np.int32)\n",
    "        suggest_idxs,_,coef_ = tm.sample_batch(map_acc_idxs, map_rej_idxs, budget, True)\n",
    "        suggest_idxs = ulb_idxs[suggest_idxs]\n",
    "\n",
    "        c = np.intersect1d(np.intersect1d(suggest_idxs, ulb_idxs), ulb_wrong)\n",
    "        w = np.setdiff1d(suggest_idxs, c)\n",
    "        rate[r] = len(c) / budget\n",
    "\n",
    "        # inject noise\n",
    "        c, w = add_noise(noise_rate, c, w)\n",
    "        correct = np.concatenate((correct, c), axis=0)\n",
    "        wrong = np.concatenate((wrong, w), axis=0)\n",
    "    print(\"Success Rate:\\t{:.4f}\".format(sum(rate)/len(rate)))\n",
    "    ac_rate = np.array([rate[:i].mean() for i in range(1, len(rate)+1)])\n",
    "    print(\"Feature Importance: {}\".format(coef_))\n",
    "    return ac_rate"
   ]
  },
  {
   "cell_type": "code",
   "execution_count": 8,
   "metadata": {},
   "outputs": [
    {
     "name": "stderr",
     "output_type": "stream",
     "text": [
      "100%|██████████| 300/300 [00:00<00:00, 7864.52it/s]\n"
     ]
    }
   ],
   "source": [
    "# meta info\n",
    "lb_idxs = data_provider.get_labeled_idx(EPOCH_END)\n",
    "ulb_idxs = data_provider.get_unlabeled_idx(LEN, lb_idxs)\n",
    "\n",
    "data = data_provider.train_representation_all(EPOCH_END)\n",
    "labels = data_provider.train_labels_all(EPOCH_END)\n",
    "pred = data_provider.get_pred(EPOCH_END, data).argmax(1)\n",
    "wrong_pred_idx = np.argwhere(pred!=labels).squeeze()\n",
    "ulb_wrong = np.intersect1d(wrong_pred_idx, ulb_idxs)"
   ]
  },
  {
   "cell_type": "code",
   "execution_count": 9,
   "metadata": {},
   "outputs": [],
   "source": [
    "# get hyperparameters\n",
    "BUDGET = 50\n",
    "TOLERANCE = 0.1\n",
    "ROUND = 10\n",
    "INIT_ROUND = 10000"
   ]
  },
  {
   "cell_type": "code",
   "execution_count": 10,
   "metadata": {},
   "outputs": [
    {
     "name": "stdout",
     "output_type": "stream",
     "text": [
      "Random sampling init\n",
      "Success Rate:\t0.0217\n"
     ]
    }
   ],
   "source": [
    "# random init\n",
    "print(\"Random sampling init\")\n",
    "random_rate = list()\n",
    "pool = np.array(ulb_idxs)\n",
    "for _ in range(INIT_ROUND):\n",
    "    s_idxs = np.random.choice(pool,size=BUDGET,replace=False)\n",
    "    random_rate.append(len(np.intersect1d(s_idxs, ulb_wrong))/BUDGET)\n",
    "print(\"Success Rate:\\t{:.4f}\".format(sum(random_rate)/len(random_rate)))"
   ]
  },
  {
   "cell_type": "code",
   "execution_count": 11,
   "metadata": {},
   "outputs": [
    {
     "name": "stdout",
     "output_type": "stream",
     "text": [
      "Feedback sampling initialization (TimeVis):\n",
      "Init success Rate:\t0.0242\n"
     ]
    },
    {
     "data": {
      "text/plain": [
       "0.024188000000001302"
      ]
     },
     "execution_count": 11,
     "metadata": {},
     "output_type": "execute_result"
    }
   ],
   "source": [
    "# init\n",
    "init_sampling(tm=tm, method=VIS_METHOD, round=INIT_ROUND, budget=BUDGET, ulb_wrong=ulb_wrong)"
   ]
  },
  {
   "cell_type": "code",
   "execution_count": 15,
   "metadata": {},
   "outputs": [
    {
     "name": "stdout",
     "output_type": "stream",
     "text": [
      "Random sampling feedback:\n",
      "Success Rate:\t0.0120\n"
     ]
    }
   ],
   "source": [
    "# random sampling\n",
    "print(\"Random sampling feedback:\")\n",
    "random_rate = list()\n",
    "pool = np.array(ulb_idxs)\n",
    "for _ in range(ROUND):\n",
    "    s_idxs = np.random.choice(pool,size=BUDGET,replace=False)\n",
    "    random_rate.append(len(np.intersect1d(s_idxs, ulb_wrong))/BUDGET)\n",
    "    pool = np.setdiff1d(pool, s_idxs)\n",
    "print(\"Success Rate:\\t{:.4f}\".format(sum(random_rate)/len(random_rate)))"
   ]
  },
  {
   "cell_type": "code",
   "execution_count": 12,
   "metadata": {},
   "outputs": [
    {
     "name": "stdout",
     "output_type": "stream",
     "text": [
      "Feedback sampling (TimeVis) with noise rate 0.0:\n",
      "Success Rate:\t0.4440\n",
      "Feature Importance: [0.9637395  0.24442358 0.0211163  0.26528401]\n"
     ]
    },
    {
     "data": {
      "text/plain": [
       "array([0.        , 0.01      , 0.24666667, 0.335     , 0.376     ,\n",
       "       0.42      , 0.40857143, 0.4225    , 0.43555556, 0.444     ])"
      ]
     },
     "execution_count": 12,
     "metadata": {},
     "output_type": "execute_result"
    }
   ],
   "source": [
    "# sampling\n",
    "feedback_sampling(tm=tm, method=VIS_METHOD, round=ROUND, budget=BUDGET, ulb_wrong=ulb_wrong, noise_rate=0.0)"
   ]
  },
  {
   "cell_type": "code",
   "execution_count": 13,
   "metadata": {},
   "outputs": [
    {
     "name": "stdout",
     "output_type": "stream",
     "text": [
      "Feedback sampling (TimeVis) with noise rate 0.05:\n",
      "Success Rate:\t0.4020\n",
      "Feature Importance: [0.8779795  0.03463631 0.08519246 0.38559227]\n"
     ]
    },
    {
     "data": {
      "text/plain": [
       "array([0.02      , 0.05      , 0.04666667, 0.22      , 0.292     ,\n",
       "       0.34      , 0.35714286, 0.375     , 0.38222222, 0.402     ])"
      ]
     },
     "execution_count": 13,
     "metadata": {},
     "output_type": "execute_result"
    }
   ],
   "source": [
    "# noise tolerance\n",
    "feedback_sampling(tm=tm, method=VIS_METHOD, round=ROUND, budget=BUDGET, ulb_wrong=ulb_wrong, noise_rate=.05)"
   ]
  }
 ],
 "metadata": {
  "kernelspec": {
   "display_name": "Python 3.7.12 ('SV')",
   "language": "python",
   "name": "python3"
  },
  "language_info": {
   "codemirror_mode": {
    "name": "ipython",
    "version": 3
   },
   "file_extension": ".py",
   "mimetype": "text/x-python",
   "name": "python",
   "nbconvert_exporter": "python",
   "pygments_lexer": "ipython3",
   "version": "3.7.12"
  },
  "orig_nbformat": 4,
  "vscode": {
   "interpreter": {
    "hash": "aa7a9f36e1a1e240450dbe9cc8f6d8df1d5301f36681fb271c44fdd883236b60"
   }
  }
 },
 "nbformat": 4,
 "nbformat_minor": 2
}
