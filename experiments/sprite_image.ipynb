{
 "cells": [
  {
   "cell_type": "code",
   "execution_count": 1,
   "metadata": {},
   "outputs": [],
   "source": [
    "import numpy as np\n",
    "import os\n",
    "from PIL import Image\n",
    "import numpy as np\n",
    "import PIL.Image as pil\n",
    "import matplotlib.pyplot as plt\n",
    "from torchvision.datasets import CIFAR10, MNIST, FashionMNIST"
   ]
  },
  {
   "cell_type": "code",
   "execution_count": 2,
   "metadata": {},
   "outputs": [],
   "source": [
    "def convert_to_rgb(images: np.ndarray) -> np.ndarray:\n",
    "    \"\"\"\n",
    "    Converts grayscale images to RGB. It changes NxHxWx1 to a NxHxWx3 array, where N is the number of figures,\n",
    "    H is the high and W the width.\n",
    "    :param images: Grayscale images of shape (NxHxWx1).\n",
    "    :return: Images in RGB format of shape (NxHxWx3).\n",
    "    \"\"\"\n",
    "    dims = np.shape(images)\n",
    "    if not ((len(dims) == 4 and dims[-1] == 1) or len(dims) == 3):\n",
    "        raise ValueError(\"Unexpected shape for grayscale images:\" + str(dims))\n",
    "\n",
    "    if dims[-1] == 1:\n",
    "        # Squeeze channel axis if it exists\n",
    "        rgb_images = np.squeeze(images, axis=-1)\n",
    "    else:\n",
    "        rgb_images = images\n",
    "    rgb_images = np.stack((rgb_images,) * 3, axis=-1)\n",
    "\n",
    "    return rgb_images\n",
    "    \n",
    "def create_sprite(images: np.ndarray) -> np.ndarray:\n",
    "    \"\"\"\n",
    "    Creates a sprite of provided images.\n",
    "    :param images: Images to construct the sprite.\n",
    "    :return: An image array containing the sprite.\n",
    "    \"\"\"\n",
    "    shape = np.shape(images)\n",
    "\n",
    "    if len(shape) < 3 or len(shape) > 4:\n",
    "        raise ValueError(\"Images provided for sprite have wrong dimensions \" + str(len(shape)))\n",
    "\n",
    "    if len(shape) == 3:\n",
    "        # Check to see if it's MNIST type of images and add axis to show image is gray-scale\n",
    "        images = np.expand_dims(images, axis=3)\n",
    "        shape = np.shape(images)\n",
    "\n",
    "    # Change black and white images to RGB\n",
    "    if shape[3] == 1:\n",
    "        images = convert_to_rgb(images)\n",
    "\n",
    "    n = int(np.ceil(np.sqrt(images.shape[0])))\n",
    "    padding = ((0, n ** 2 - images.shape[0]), (0, 0), (0, 0)) + ((0, 0),) * (images.ndim - 3)\n",
    "    images = np.pad(images, padding, mode=\"constant\", constant_values=0)\n",
    "\n",
    "    # Tile the individual thumbnails into an image\n",
    "    images = images.reshape((n, n) + images.shape[1:]).transpose((0, 2, 1, 3) + tuple(range(4, images.ndim + 1)))\n",
    "    images = images.reshape((n * images.shape[1], n * images.shape[3]) + images.shape[4:])\n",
    "    sprite = (images * 255).astype(np.uint8)\n",
    "\n",
    "    return sprite"
   ]
  },
  {
   "cell_type": "code",
   "execution_count": 3,
   "metadata": {},
   "outputs": [
    {
     "name": "stdout",
     "output_type": "stream",
     "text": [
      "Files already downloaded and verified\n",
      "Files already downloaded and verified\n"
     ]
    }
   ],
   "source": [
    "train_dataset = CIFAR10(root=\"data\", train=True, download=True)\n",
    "test_dataset = CIFAR10(root=\"data\", train=False, download=True)\n",
    "data = np.concatenate((train_dataset.data, test_dataset.data), axis=0)/255"
   ]
  },
  {
   "cell_type": "code",
   "execution_count": 2,
   "metadata": {},
   "outputs": [],
   "source": [
    "train_dataset = MNIST(root=\"data\", train=True, download=True)\n",
    "test_dataset = MNIST(root=\"data\", train=False, download=True)\n",
    "# all_data = np.concatenate((train_dataset.data, test_dataset.data), axis=0)"
   ]
  },
  {
   "cell_type": "code",
   "execution_count": 9,
   "metadata": {},
   "outputs": [],
   "source": [
    "train_dataset = FashionMNIST(root=\"data\", train=True, download=True)\n",
    "test_dataset = FashionMNIST(root=\"data\", train=False, download=True)"
   ]
  },
  {
   "cell_type": "code",
   "execution_count": 6,
   "metadata": {},
   "outputs": [
    {
     "data": {
      "text/plain": [
       "<matplotlib.image.AxesImage at 0x7f7f237e2fd0>"
      ]
     },
     "execution_count": 6,
     "metadata": {},
     "output_type": "execute_result"
    },
    {
     "data": {
      "image/png": "[encoded data removed]",
      "text/plain": [
       "<Figure size 432x288 with 1 Axes>"
      ]
     },
     "metadata": {
      "needs_background": "light"
     },
     "output_type": "display_data"
    }
   ],
   "source": [
    "image1 = test_dataset.data[73]\n",
    "image1 = image1.numpy().astype(np.uint8)\n",
    "plt.imshow(image1.astype(np.uint8), interpolation='nearest')"
   ]
  },
  {
   "cell_type": "code",
   "execution_count": 7,
   "metadata": {},
   "outputs": [
    {
     "data": {
      "text/plain": [
       "<matplotlib.image.AxesImage at 0x7f7f23764bd0>"
      ]
     },
     "execution_count": 7,
     "metadata": {},
     "output_type": "execute_result"
    },
    {
     "data": {
      "image/png": "[encoded data removed]",
      "text/plain": [
       "<Figure size 432x288 with 1 Axes>"
      ]
     },
     "metadata": {
      "needs_background": "light"
     },
     "output_type": "display_data"
    }
   ],
   "source": [
    "image2 = test_dataset.data[16]\n",
    "image2 = image2.numpy().astype(np.uint8)\n",
    "plt.imshow(image2.astype(np.uint8), interpolation='nearest')"
   ]
  },
  {
   "cell_type": "code",
   "execution_count": 29,
   "metadata": {},
   "outputs": [
    {
     "data": {
      "text/plain": [
       "<matplotlib.image.AxesImage at 0x7fe689194510>"
      ]
     },
     "execution_count": 29,
     "metadata": {},
     "output_type": "execute_result"
    },
    {
     "data": {
      "image/png": "[encoded data removed]",
      "text/plain": [
       "<Figure size 432x288 with 1 Axes>"
      ]
     },
     "metadata": {
      "needs_background": "light"
     },
     "output_type": "display_data"
    }
   ],
   "source": [
    "image3 = test_dataset.data[34]\n",
    "image3 = image3.numpy().astype(np.uint8)\n",
    "plt.imshow(image3.astype(np.uint8), interpolation='nearest')"
   ]
  },
  {
   "cell_type": "code",
   "execution_count": 8,
   "metadata": {},
   "outputs": [
    {
     "data": {
      "text/plain": [
       "<matplotlib.image.AxesImage at 0x7f7f236e4a50>"
      ]
     },
     "execution_count": 8,
     "metadata": {},
     "output_type": "execute_result"
    },
    {
     "data": {
      "image/png": "[encoded data removed]",
      "text/plain": [
       "<Figure size 432x288 with 1 Axes>"
      ]
     },
     "metadata": {
      "needs_background": "light"
     },
     "output_type": "display_data"
    }
   ],
   "source": [
    "image4 = train_dataset.data[18176]\n",
    "image4 = image4.numpy().astype(np.uint8)\n",
    "plt.imshow(image4.astype(np.uint8), interpolation='nearest')"
   ]
  },
  {
   "cell_type": "code",
   "execution_count": 10,
   "metadata": {},
   "outputs": [
    {
     "data": {
      "text/plain": [
       "<matplotlib.image.AxesImage at 0x7f7f23666910>"
      ]
     },
     "execution_count": 10,
     "metadata": {},
     "output_type": "execute_result"
    },
    {
     "data": {
      "image/png": "[encoded data removed]",
      "text/plain": [
       "<Figure size 432x288 with 1 Axes>"
      ]
     },
     "metadata": {
      "needs_background": "light"
     },
     "output_type": "display_data"
    }
   ],
   "source": [
    "image5 = train_dataset.data[1024]\n",
    "image5 = image5.numpy().astype(np.uint8)\n",
    "plt.imshow(image5.astype(np.uint8), interpolation='nearest')"
   ]
  },
  {
   "cell_type": "code",
   "execution_count": 11,
   "metadata": {},
   "outputs": [
    {
     "data": {
      "image/png": "[encoded data removed]",
      "text/plain": [
       "<Figure size 576x144 with 4 Axes>"
      ]
     },
     "metadata": {
      "needs_background": "light"
     },
     "output_type": "display_data"
    }
   ],
   "source": [
    "num_row = 1\n",
    "num_col = 4\n",
    "# plot images\n",
    "fig, axes = plt.subplots(num_row, num_col, figsize=(2*num_col,2*num_row))\n",
    "\n",
    "ax = axes[0]\n",
    "ax.imshow(image2)\n",
    "ax.set_title(\"normal\")\n",
    "\n",
    "ax = axes[1]\n",
    "ax.imshow(image1)\n",
    "ax.set_title(\"testing\")\n",
    "\n",
    "ax = axes[2]\n",
    "ax.imshow(image5)\n",
    "ax.set_title(\"normal\")\n",
    "\n",
    "ax = axes[3]\n",
    "ax.imshow(image4)\n",
    "ax.set_title(\"OOD\")\n",
    "\n",
    "plt.tight_layout()\n",
    "plt.savefig(\"explanation.pdf\", dpi=400)"
   ]
  },
  {
   "cell_type": "code",
   "execution_count": 4,
   "metadata": {},
   "outputs": [],
   "source": [
    "sprite = create_sprite(data) "
   ]
  },
  {
   "cell_type": "code",
   "execution_count": 5,
   "metadata": {},
   "outputs": [],
   "source": [
    "file_name = \"mnist.png\"\n",
    "image = Image.fromarray(sprite)\n",
    "image.save(file_name)"
   ]
  },
  {
   "cell_type": "code",
   "execution_count": 7,
   "metadata": {},
   "outputs": [],
   "source": [
    "path = \"/home/xianglin/projects/DVI_data/noisy/symmetric/mnist/10/sprites\"\n",
    "os.makedirs(path, exist_ok=True)\n",
    "for i in range(70000):\n",
    "    image = Image.fromarray(all_data[i])\n",
    "    image.save(os.path.join(path, \"{}.png\".format(i)))\n"
   ]
  }
 ],
 "metadata": {
  "interpreter": {
   "hash": "aa7a9f36e1a1e240450dbe9cc8f6d8df1d5301f36681fb271c44fdd883236b60"
  },
  "kernelspec": {
   "display_name": "Python 3.7.11 ('SV': conda)",
   "language": "python",
   "name": "python3"
  },
  "language_info": {
   "codemirror_mode": {
    "name": "ipython",
    "version": 3
   },
   "file_extension": ".py",
   "mimetype": "text/x-python",
   "name": "python",
   "nbconvert_exporter": "python",
   "pygments_lexer": "ipython3",
   "version": "3.7.12"
  },
  "orig_nbformat": 4
 },
 "nbformat": 4,
 "nbformat_minor": 2
}
