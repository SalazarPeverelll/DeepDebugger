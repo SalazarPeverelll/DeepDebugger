{
 "cells": [
  {
   "cell_type": "code",
   "execution_count": null,
   "metadata": {},
   "outputs": [],
   "source": [
    "import matplotlib.pyplot as plt\n",
    "import matplotlib as mpl\n",
    "import numpy as np\n",
    "import seaborn as sns\n",
    "import pandas as pd"
   ]
  },
  {
   "cell_type": "markdown",
   "metadata": {},
   "source": [
    "# Active learning"
   ]
  },
  {
   "cell_type": "code",
   "execution_count": null,
   "metadata": {},
   "outputs": [],
   "source": [
    "# read results\n",
    "eval_path = \"/home/xianglin/projects/DVI_data/active_learning/random/resnet18/feedback.xlsx\"\n",
    "df = pd.read_excel(eval_path, index_col=0, dtype={\"task\":str, \"dataset\":str, \"method\":str, \"rate\":int, \"tolerance\":float, \"iter\":int, \"eval\":float})"
   ]
  },
  {
   "attachments": {},
   "cell_type": "markdown",
   "metadata": {},
   "source": [
    "## feedback"
   ]
  },
  {
   "cell_type": "code",
   "execution_count": null,
   "metadata": {},
   "outputs": [],
   "source": [
    "# \"task\":str, \"dataset\":str, \"method\":str, \"rate\":int, \"tolerance\":float, \"iter\":int, \"eval\":float})\n",
    "df_eval = df[(df.task==\"feedback\")&(df.rate==30)&(df.tolerance==0.0)]"
   ]
  },
  {
   "cell_type": "code",
   "execution_count": null,
   "metadata": {},
   "outputs": [],
   "source": [
    "pal20c = sns.color_palette('tab20c', 20)\n",
    "sns.set_theme()\n",
    "sns.set_context(\"paper\", font_scale=2, rc={\"lines.linewidth\": 3}) \n",
    "# fg = sns.relplot(data=df, x=\"iter\", y=\"eval\", col=\"method\", hue=\"dataset\", hue_order=[\"MNIST\",\"FMNIST\",\"CIFAR10\"], kind=\"line\", legend=\"full\")\n",
    "fg = sns.lineplot(data=df_eval, x=\"iter\", y=\"eval\", hue=\"dataset\", hue_order=[\"mnist\",\"fmnist\",\"cifar10\"], style=\"method\", style_order=[\"Random\", \"DVI\", \"TimeVis\"], legend=\"full\")\n",
    "sns.move_legend(fg, \"lower center\", bbox_to_anchor=(.5, 1), ncol=2, title=None, frameon=False)\n",
    "fg.set(xlabel='', ylabel='')\n",
    "\n",
    "fg.figure.savefig(\n",
    "    \"../singleVis/plot/plot_results/al_simulation.png\",\n",
    "    dpi=300,\n",
    "    bbox_inches=\"tight\",\n",
    "    pad_inches=0.0,\n",
    "    transparent=True,\n",
    ")"
   ]
  },
  {
   "attachments": {},
   "cell_type": "markdown",
   "metadata": {},
   "source": [
    "## noise"
   ]
  },
  {
   "cell_type": "code",
   "execution_count": null,
   "metadata": {},
   "outputs": [],
   "source": [
    "df_eval = df[(df.task==\"feedback\")&(df.rate==10)]"
   ]
  },
  {
   "cell_type": "code",
   "execution_count": null,
   "metadata": {},
   "outputs": [],
   "source": [
    "pal20c = sns.color_palette('tab20c', 20)\n",
    "sns.set_theme()\n",
    "sns.set_context(\"paper\", font_scale=2, rc={\"lines.linewidth\": 3}) \n",
    "fg = sns.relplot(data=df_eval, x=\"iter\", y=\"eval\", col=\"dataset\", hue=\"tolerance\", hue_order=[0.15,0.05,0.0], style=\"method\", style_order=[\"TimeVis\"], kind=\"line\", legend=\"full\")\n",
    "# fg = sns.lineplot(data=df_eval, x=\"iter\", y=\"eval\", hue=\"dataset\", hue_order=[\"mnist\",\"fmnist\",\"cifar10\"], style=\"method\", style_order=[\"DVI\", \"TimeVis\",\"Random\"], legend=\"full\")\n",
    "sns.move_legend(fg, \"lower center\", bbox_to_anchor=(.5, 1), ncol=2, title=None, frameon=False)\n",
    "fg.set(xlabel='', ylabel='')\n",
    "\n",
    "fg.figure.savefig(\n",
    "    \"../singleVis/plot/plot_results/al_simulation_noise.png\",\n",
    "    dpi=300,\n",
    "    bbox_inches=\"tight\",\n",
    "    pad_inches=0.0,\n",
    "    transparent=True,\n",
    ")"
   ]
  },
  {
   "attachments": {},
   "cell_type": "markdown",
   "metadata": {},
   "source": [
    "## efficiency\n",
    "box plot"
   ]
  },
  {
   "cell_type": "code",
   "execution_count": null,
   "metadata": {},
   "outputs": [],
   "source": [
    "df_eval = df[(df.task==\"efficiency\")]"
   ]
  },
  {
   "cell_type": "code",
   "execution_count": null,
   "metadata": {},
   "outputs": [],
   "source": [
    "sns.set_context(\"paper\", font_scale=2, rc={\"lines.linewidth\": 3}) \n",
    "fg = sns.catplot(data=df_eval, x=\"iter\", y=\"eval\", col=\"dataset\", hue=\"method\", kind=\"box\")\n",
    "# sns.move_legend(fg, \"lower center\", bbox_to_anchor=(.5, 1), ncol=2, title=None, frameon=False)\n",
    "fg.set(xlabel='', ylabel='')\n",
    "\n",
    "fg.figure.savefig(\n",
    "    \"../singleVis/plot/plot_results/al_simulation_efficiency.png\",\n",
    "    dpi=300,\n",
    "    bbox_inches=\"tight\",\n",
    "    pad_inches=0.0,\n",
    "    transparent=True,\n",
    ")"
   ]
  },
  {
   "cell_type": "markdown",
   "metadata": {},
   "source": [
    "# NOISE"
   ]
  },
  {
   "cell_type": "code",
   "execution_count": null,
   "metadata": {},
   "outputs": [],
   "source": [
    "# read results\n",
    "eval_path = \"/home/xianglin/projects/DVI_data/noisy/symmetric/feedback.xlsx\"\n",
    "df = pd.read_excel(eval_path, index_col=0, dtype={\"task\":str, \"dataset\":str, \"method\":str, \"rate\":int, \"tolerance\":float, \"iter\":int, \"eval\":float})"
   ]
  },
  {
   "attachments": {},
   "cell_type": "markdown",
   "metadata": {},
   "source": [
    "## feedback"
   ]
  },
  {
   "cell_type": "code",
   "execution_count": null,
   "metadata": {},
   "outputs": [],
   "source": [
    "# \"task\":str, \"dataset\":str, \"method\":str, \"rate\":int, \"tolerance\":float, \"iter\":int, \"eval\":float\n",
    "df_eval = df[(df.task==\"feedback\")&(df.tolerance==0.0)&(df.rate==10)]"
   ]
  },
  {
   "cell_type": "code",
   "execution_count": null,
   "metadata": {},
   "outputs": [],
   "source": [
    "pal20c = sns.color_palette('tab20c', 20)\n",
    "sns.set_theme()\n",
    "sns.set_context(\"paper\", font_scale=2, rc={\"lines.linewidth\": 3}) \n",
    "fg = sns.relplot(data=df_eval, x=\"iter\", y=\"eval\", col=\"dataset\", hue=\"method\",kind=\"line\", legend=\"full\")\n",
    "# fg = sns.lineplot(data=df_eval, x=\"iter\", y=\"eval\", hue=\"dataset\", hue_order=[\"mnist\",\"fmnist\",\"cifar10\"], style=\"method\", style_order=[\"DVI\", \"TimeVis\",\"Random\"], legend=\"full\")\n",
    "sns.move_legend(fg, \"lower center\", bbox_to_anchor=(.5, 1), ncol=3, title=None, frameon=False)\n",
    "fg.set(xlabel='', ylabel='')\n",
    "\n",
    "fg.figure.savefig(\n",
    "    \"../singleVis/plot/plot_results/noise_simulation.png\",\n",
    "    dpi=300,\n",
    "    bbox_inches=\"tight\",\n",
    "    pad_inches=0.0,\n",
    "    transparent=True,\n",
    ")"
   ]
  },
  {
   "attachments": {},
   "cell_type": "markdown",
   "metadata": {},
   "source": [
    "## efficiency"
   ]
  },
  {
   "cell_type": "code",
   "execution_count": null,
   "metadata": {},
   "outputs": [],
   "source": [
    "# # \"task\":str, \"dataset\":str, \"method\":str, \"rate\":int, \"tolerance\":float, \"iter\":int, \"eval\":float\n",
    "df_eval = df[(df.task==\"efficiency\")&(df.rate==20)]"
   ]
  },
  {
   "cell_type": "code",
   "execution_count": null,
   "metadata": {},
   "outputs": [],
   "source": [
    "sns.set_context(\"paper\", font_scale=2, rc={\"lines.linewidth\": 3}) \n",
    "fg = sns.catplot(data=df_eval, x=\"iter\", y=\"eval\", col=\"dataset\", hue=\"method\", kind=\"box\")\n",
    "# fg = sns.relplot(data=df, x=\"iter\", y=\"eval\", col=\"method\", hue=\"dataset\", hue_order=[\"MNIST\",\"FMNIST\",\"CIFAR10\"], kind=\"line\", legend=\"full\")\n",
    "# fg = sns.lineplot(data=df, x=\"iter\", y=\"eval\", hue=\"dataset\", hue_order=[\"MNIST\",\"FMNIST\",\"CIFAR10\"], style=\"method\", style_order=[\"DVI\", \"TimeVis\",\"RANDOM\"], legend=\"full\")\n",
    "# sns.move_legend(fg, \"lower center\", bbox_to_anchor=(.5, 1), ncol=2, title=None, frameon=False)\n",
    "fg.set(xlabel='', ylabel='')\n",
    "\n",
    "fg.figure.savefig(\n",
    "    \"../singleVis/plot/plot_results/noise_simulation_efficiency.png\",\n",
    "    dpi=300,\n",
    "    bbox_inches=\"tight\",\n",
    "    pad_inches=0.0,\n",
    "    transparent=True,\n",
    ")"
   ]
  },
  {
   "attachments": {},
   "cell_type": "markdown",
   "metadata": {},
   "source": [
    "## noise"
   ]
  },
  {
   "cell_type": "code",
   "execution_count": null,
   "metadata": {},
   "outputs": [],
   "source": [
    "# \"task\":str, \"dataset\":str, \"method\":str, \"rate\":int, \"tolerance\":float, \"iter\":int, \"eval\":float\n",
    "df_eval = df[(df.task==\"feedback\")&(df.rate==10)]"
   ]
  },
  {
   "cell_type": "code",
   "execution_count": null,
   "metadata": {},
   "outputs": [],
   "source": [
    "pal20c = sns.color_palette('tab20c', 20)\n",
    "sns.set_theme()\n",
    "sns.set_context(\"paper\", font_scale=2, rc={\"lines.linewidth\": 3}) \n",
    "fg = sns.relplot(data=df_eval, x=\"iter\", y=\"eval\", col=\"dataset\", hue=\"tolerance\", hue_order=[0.15,0.05,0.0], style=\"method\", style_order=[\"TimeVis\"], kind=\"line\", legend=\"full\")\n",
    "# fg = sns.lineplot(data=df_eval, x=\"iter\", y=\"eval\", hue=\"dataset\", hue_order=[\"mnist\",\"fmnist\",\"cifar10\"], style=\"method\", style_order=[\"DVI\", \"TimeVis\",\"Random\"], legend=\"full\")\n",
    "sns.move_legend(fg, \"lower center\", bbox_to_anchor=(.5, 1), ncol=2, title=None, frameon=False)\n",
    "fg.set(xlabel='', ylabel='')\n",
    "\n",
    "fg.figure.savefig(\n",
    "    \"../singleVis/plot/plot_results/noise_simulation_noise.png\",\n",
    "    dpi=300,\n",
    "    bbox_inches=\"tight\",\n",
    "    pad_inches=0.0,\n",
    "    transparent=True,\n",
    ")"
   ]
  }
 ],
 "metadata": {
  "kernelspec": {
   "display_name": "Python 3.7.12 ('SV')",
   "language": "python",
   "name": "python3"
  },
  "language_info": {
   "codemirror_mode": {
    "name": "ipython",
    "version": 3
   },
   "file_extension": ".py",
   "mimetype": "text/x-python",
   "name": "python",
   "nbconvert_exporter": "python",
   "pygments_lexer": "ipython3",
   "version": "3.7.12"
  },
  "orig_nbformat": 4,
  "vscode": {
   "interpreter": {
    "hash": "aa7a9f36e1a1e240450dbe9cc8f6d8df1d5301f36681fb271c44fdd883236b60"
   }
  }
 },
 "nbformat": 4,
 "nbformat_minor": 2
}
